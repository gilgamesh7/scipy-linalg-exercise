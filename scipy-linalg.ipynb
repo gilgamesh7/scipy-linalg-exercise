{
 "cells": [
  {
   "cell_type": "code",
   "execution_count": 1,
   "metadata": {},
   "outputs": [],
   "source": [
    "# Testing Jupter setup\n",
    "import scipy"
   ]
  },
  {
   "attachments": {},
   "cell_type": "markdown",
   "metadata": {},
   "source": [
    "### Working With Vectors and Matrices Using NumPy"
   ]
  },
  {
   "cell_type": "code",
   "execution_count": 2,
   "metadata": {},
   "outputs": [],
   "source": [
    "import numpy as np"
   ]
  },
  {
   "cell_type": "code",
   "execution_count": 10,
   "metadata": {},
   "outputs": [
    {
     "name": "stdout",
     "output_type": "stream",
     "text": [
      "Array [[1 2]\n",
      " [3 4]\n",
      " [5 6]] is of type int64\n",
      "Array [[1. 2.]\n",
      " [3. 4.]\n",
      " [5. 6.]] is of type float64\n",
      "Shape of array [[1. 2.]\n",
      " [3. 4.]\n",
      " [5. 6.]] is (3, 2)\n",
      "Transpose of array [[1. 2.]\n",
      " [3. 4.]\n",
      " [5. 6.]] \n",
      " is \n",
      " [[1. 3. 5.]\n",
      " [2. 4. 6.]]\n",
      "Shape of transposed array [[1. 3. 5.]\n",
      " [2. 4. 6.]] is (2, 3)\n"
     ]
    }
   ],
   "source": [
    "# Creating arrays (ndarrays)\n",
    "\n",
    "A = np.array([[1, 2], [3, 4], [5, 6]])\n",
    "print(f\"Array {A} is of type {A.dtype}\")\n",
    "\n",
    "A = np.array([[1.0, 2], [3, 4], [5, 6]])\n",
    "print(f\"Array {A} is of type {A.dtype}\")\n",
    "\n",
    "print(f\"Shape of array {A} is {A.shape}\")\n",
    "\n",
    "print(f\"Transpose of array {A} \\n is \\n {A.T}\")\n",
    "print(f\"Shape of transposed array {A.T} is {A.T.shape}\")"
   ]
  },
  {
   "cell_type": "code",
   "execution_count": 19,
   "metadata": {},
   "outputs": [
    {
     "name": "stdout",
     "output_type": "stream",
     "text": [
      "Shape of vector \n",
      " [1 2 3] \n",
      " is \n",
      " (3,)\n",
      "Transpose of vector \n",
      " [1 2 3] \n",
      " is \n",
      " [1 2 3] (No effect)\n",
      "Shape of vector \n",
      " [[1 2 3]] \n",
      " is \n",
      " (1, 3)\n",
      "Transpose of vector \n",
      " [[1 2 3]] \n",
      " is \n",
      " [[1]\n",
      " [2]\n",
      " [3]]\n",
      "Transpose of vector \n",
      " [[1]\n",
      " [2]\n",
      " [3]] \n",
      " is \n",
      " [[1 2 3]] \n",
      "Shape of vector \n",
      " [[1]\n",
      " [2]\n",
      " [3]] \n",
      " is \n",
      " (3, 1) \n"
     ]
    }
   ],
   "source": [
    "# Creating vectors\n",
    "\n",
    "# single dimensional vector\n",
    "v = np.array([1, 2, 3])\n",
    "print(f\"Shape of vector \\n {v} \\n is \\n {v.shape}\")\n",
    "print(f\"Transpose of vector \\n {v} \\n is \\n {v.T} (No effect)\")\n",
    "\n",
    "# 2 D vector\n",
    "v = np.array([[1, 2, 3]])\n",
    "print(f\"Shape of vector \\n {v} \\n is \\n {v.shape}\")\n",
    "print(f\"Transpose of vector \\n {v} \\n is \\n {v.T}\")\n",
    "\n",
    "# Use reshape to get a column vector from 1 D vector\n",
    "v = np.array([1, 2, 3]).reshape(3,1)\n",
    "print(f\"Transpose of vector \\n {v} \\n is \\n {v.T} \")\n",
    "# Use reshape with -1 to avoid the rows parameter for column vector\n",
    "v = np.array([1, 2, 3]).reshape(-1,1)\n",
    "print(f\"Shape of vector \\n {v} \\n is \\n {v.shape} \")"
   ]
  },
  {
   "attachments": {},
   "cell_type": "markdown",
   "metadata": {},
   "source": [
    "### Using Convenience Functions to Create Arrays"
   ]
  },
  {
   "cell_type": "code",
   "execution_count": 20,
   "metadata": {},
   "outputs": [
    {
     "name": "stdout",
     "output_type": "stream",
     "text": [
      "[[0. 0.]\n",
      " [0. 0.]\n",
      " [0. 0.]]\n"
     ]
    }
   ],
   "source": [
    "# Zeroes\n",
    "print(np.zeros((3, 2)))\n"
   ]
  },
  {
   "cell_type": "code",
   "execution_count": 21,
   "metadata": {},
   "outputs": [
    {
     "name": "stdout",
     "output_type": "stream",
     "text": [
      "[[1. 1.]\n",
      " [1. 1.]\n",
      " [1. 1.]]\n"
     ]
    }
   ],
   "source": [
    "# Ones\n",
    "print(np.ones((3, 2)))"
   ]
  },
  {
   "cell_type": "code",
   "execution_count": 22,
   "metadata": {},
   "outputs": [
    {
     "name": "stdout",
     "output_type": "stream",
     "text": [
      "[[0.1753066  0.79237299]\n",
      " [0.18790268 0.63840026]\n",
      " [0.30713908 0.27335764]]\n"
     ]
    }
   ],
   "source": [
    "# Randoms - normal distribution\n",
    "print(np.random.rand(3, 2))"
   ]
  },
  {
   "cell_type": "code",
   "execution_count": 23,
   "metadata": {},
   "outputs": [
    {
     "name": "stdout",
     "output_type": "stream",
     "text": [
      "[[-1.58677869 -1.4773613 ]\n",
      " [ 1.27124131  1.92737141]\n",
      " [ 0.82874603 -0.30448637]]\n"
     ]
    }
   ],
   "source": [
    "# Randoms - uniform distribution\n",
    "print(np.random.randn(3, 2))"
   ]
  },
  {
   "attachments": {},
   "cell_type": "markdown",
   "metadata": {},
   "source": [
    "### Performing Operations on NumPy Arrays"
   ]
  },
  {
   "cell_type": "code",
   "execution_count": 25,
   "metadata": {},
   "outputs": [
    {
     "name": "stdout",
     "output_type": "stream",
     "text": [
      "[[10. 10.]\n",
      " [10. 10.]\n",
      " [10. 10.]]\n"
     ]
    }
   ],
   "source": [
    "# Create array of same number\n",
    "print(10*np.ones((3,2)))"
   ]
  },
  {
   "cell_type": "code",
   "execution_count": 26,
   "metadata": {},
   "outputs": [
    {
     "data": {
      "text/plain": [
       "array([[20., 20.],\n",
       "       [50., 50.]])"
      ]
     },
     "execution_count": 26,
     "metadata": {},
     "output_type": "execute_result"
    }
   ],
   "source": [
    "# Multiply 2 matrices\n",
    "A = 10 * np.ones((2, 2))\n",
    "B = np.array([[2, 2], [5, 5]])\n",
    "\n",
    "A*B"
   ]
  },
  {
   "cell_type": "code",
   "execution_count": 30,
   "metadata": {},
   "outputs": [
    {
     "name": "stdout",
     "output_type": "stream",
     "text": [
      "Result of matrix multiplication on previous cell : \n",
      " [[70. 70.]\n",
      " [70. 70.]]\n",
      "Multiplying \n",
      " [[1 2]\n",
      " [3 4]] \n",
      " by \n",
      " [[5]\n",
      " [6]] \n",
      " gives \n",
      " [[17]\n",
      " [39]]\n"
     ]
    }
   ],
   "source": [
    "# Matrix multiplication\n",
    "A = 10 * np.ones((2, 2))\n",
    "B = np.array([[2, 2], [5, 5]])\n",
    "\n",
    "print(f\"Result of matrix multiplication on previous cell : \\n {A@B}\")\n",
    "\n",
    "A = np.array([[1, 2], [3, 4]])\n",
    "v = np.array([[5], [6]])\n",
    "print(f\"Multiplying \\n {A} \\n by \\n {v} \\n gives \\n {A@v}\")"
   ]
  },
  {
   "cell_type": "code",
   "execution_count": 31,
   "metadata": {},
   "outputs": [
    {
     "name": "stdout",
     "output_type": "stream",
     "text": [
      "Multiplying \n",
      " [[1 2]\n",
      " [3 4]] \n",
      " by \n",
      " [[5]\n",
      " [6]] \n",
      " gives \n",
      " [[17]\n",
      " [39]]\n"
     ]
    }
   ],
   "source": [
    "# dot operator for @\n",
    "A = np.array([[1, 2], [3, 4]])\n",
    "v = np.array([[5], [6]])\n",
    "print(f\"Multiplying \\n {A} \\n by \\n {v} \\n gives \\n {np.dot(A,v)}\")"
   ]
  }
 ],
 "metadata": {
  "kernelspec": {
   "display_name": "venv",
   "language": "python",
   "name": "python3"
  },
  "language_info": {
   "codemirror_mode": {
    "name": "ipython",
    "version": 3
   },
   "file_extension": ".py",
   "mimetype": "text/x-python",
   "name": "python",
   "nbconvert_exporter": "python",
   "pygments_lexer": "ipython3",
   "version": "3.10.6"
  },
  "orig_nbformat": 4,
  "vscode": {
   "interpreter": {
    "hash": "301e58eb27ec7656d54e0606a4f9f81885191ae08355717ccc07ef11e8098793"
   }
  }
 },
 "nbformat": 4,
 "nbformat_minor": 2
}
