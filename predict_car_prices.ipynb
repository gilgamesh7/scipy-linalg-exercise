{
 "cells": [
  {
   "cell_type": "code",
   "execution_count": 1,
   "metadata": {},
   "outputs": [],
   "source": [
    "import pandas as pd"
   ]
  },
  {
   "cell_type": "code",
   "execution_count": 2,
   "metadata": {},
   "outputs": [],
   "source": [
    "cars_data = pd.read_csv(\"vehicles_cleaned.csv\")"
   ]
  },
  {
   "cell_type": "code",
   "execution_count": 5,
   "metadata": {},
   "outputs": [
    {
     "name": "stdout",
     "output_type": "stream",
     "text": [
      "Columns in DataFrame :\n",
      "Index(['price', 'year', 'condition', 'cylinders', 'fuel', 'odometer',\n",
      "       'transmission', 'size', 'type'],\n",
      "      dtype='object')\n",
      "\n",
      "First row of data in DataFrame :\n",
      "price                  7000\n",
      "year                   2011\n",
      "condition              good\n",
      "cylinders       4 cylinders\n",
      "fuel                    gas\n",
      "odometer              76202\n",
      "transmission      automatic\n",
      "size                compact\n",
      "type                  sedan\n",
      "Name: 0, dtype: object\n"
     ]
    }
   ],
   "source": [
    "print(f\"Columns in DataFrame :\\n{cars_data.columns}\")\n",
    "print(f\"\\nFirst row of data in DataFrame :\\n{cars_data.iloc[0]}\")"
   ]
  },
  {
   "attachments": {},
   "cell_type": "markdown",
   "metadata": {},
   "source": [
    "![Image](dummies_for_categories.png)"
   ]
  },
  {
   "cell_type": "code",
   "execution_count": 8,
   "metadata": {},
   "outputs": [
    {
     "name": "stdout",
     "output_type": "stream",
     "text": [
      "Columns in DataFrame with dummies :\n",
      "Index(['price', 'year', 'odometer', 'condition_fair', 'condition_good',\n",
      "       'condition_like new', 'condition_new', 'condition_salvage',\n",
      "       'cylinders_6 cylinders', 'fuel_gas', 'transmission_manual',\n",
      "       'size_full-size', 'size_mid-size', 'size_sub-compact', 'type_hatchback',\n",
      "       'type_sedan', 'type_wagon', 'intercept'],\n",
      "      dtype='object')\n",
      "\n",
      "First row of data in DataFrame with dummies :\n",
      "price                     7000\n",
      "year                      2011\n",
      "odometer                 76202\n",
      "condition_fair               0\n",
      "condition_good               1\n",
      "condition_like new           0\n",
      "condition_new                0\n",
      "condition_salvage            0\n",
      "cylinders_6 cylinders        0\n",
      "fuel_gas                     1\n",
      "transmission_manual          0\n",
      "size_full-size               0\n",
      "size_mid-size                0\n",
      "size_sub-compact             0\n",
      "type_hatchback               0\n",
      "type_sedan                   1\n",
      "type_wagon                   0\n",
      "intercept                    1\n",
      "Name: 0, dtype: int64\n"
     ]
    }
   ],
   "source": [
    "cars_data_dummies = pd.get_dummies(\n",
    "    cars_data,\n",
    "    columns=[\n",
    "        \"condition\",\n",
    "        \"cylinders\",\n",
    "        \"fuel\",\n",
    "        \"transmission\",\n",
    "        \"size\",\n",
    "        \"type\",\n",
    "    ],\n",
    "    drop_first=True,\n",
    ")\n",
    "\n",
    "# Add intercept : coefficient added to weighted combintaion of other variables\n",
    "cars_data_dummies[\"intercept\"] = 1\n",
    "\n",
    "print(f\"Columns in DataFrame with dummies :\\n{cars_data_dummies.columns}\")\n",
    "print(f\"\\nFirst row of data in DataFrame with dummies :\\n{cars_data_dummies.iloc[0]}\")"
   ]
  },
  {
   "cell_type": "code",
   "execution_count": 11,
   "metadata": {},
   "outputs": [],
   "source": [
    "# Build the model\n",
    "# Take out price, which is the one you want to predict (A)\n",
    "A = cars_data_dummies.drop(columns=[\"price\"]).to_numpy()\n",
    "\n",
    "# Create numoy array with only price for independant terms (b)\n",
    "b = cars_data_dummies.loc[:, \"price\"].to_numpy()\n",
    "\n"
   ]
  },
  {
   "cell_type": "code",
   "execution_count": 15,
   "metadata": {},
   "outputs": [
    {
     "name": "stdout",
     "output_type": "stream",
     "text": [
      "Model - Least squares solution for co-efficients :\n",
      "[ 8.47362988e+02 -3.53913729e-02 -3.47144752e+03 -1.66981155e+03\n",
      " -1.80240398e+02 -7.15885691e+03 -6.36540791e+03  3.76583261e+03\n",
      " -1.84837210e+03  1.31935783e+03  6.60484388e+02  6.38913933e+02\n",
      "  1.54163679e+02 -1.76423109e+03 -1.99439766e+03  6.97365788e+02\n",
      " -1.68998811e+06]\n",
      "\n",
      "Model - Inverse of co-efficient matrix solution for co-efficients :\n",
      "[ 8.47362988e+02 -3.53913729e-02 -3.47144752e+03 -1.66981155e+03\n",
      " -1.80240398e+02 -7.15885691e+03 -6.36540791e+03  3.76583261e+03\n",
      " -1.84837210e+03  1.31935783e+03  6.60484388e+02  6.38913933e+02\n",
      "  1.54163679e+02 -1.76423109e+03 -1.99439766e+03  6.97365788e+02\n",
      " -1.68998811e+06]\n"
     ]
    }
   ],
   "source": [
    "# Get x using least squares\n",
    "from scipy import linalg\n",
    "\n",
    "p1, *_ = linalg.lstsq(A, b)\n",
    "print(f\"Model - Least squares solution for co-efficients :\\n{p1}\")\n",
    "\n",
    "\n",
    "p2 = linalg.pinv(A) @ b\n",
    "print(f\"\\nModel - Inverse of co-efficient matrix solution for co-efficients :\\n{p1}\")\n"
   ]
  }
 ],
 "metadata": {
  "kernelspec": {
   "display_name": "venv",
   "language": "python",
   "name": "python3"
  },
  "language_info": {
   "codemirror_mode": {
    "name": "ipython",
    "version": 3
   },
   "file_extension": ".py",
   "mimetype": "text/x-python",
   "name": "python",
   "nbconvert_exporter": "python",
   "pygments_lexer": "ipython3",
   "version": "3.10.6"
  },
  "orig_nbformat": 4,
  "vscode": {
   "interpreter": {
    "hash": "301e58eb27ec7656d54e0606a4f9f81885191ae08355717ccc07ef11e8098793"
   }
  }
 },
 "nbformat": 4,
 "nbformat_minor": 2
}
