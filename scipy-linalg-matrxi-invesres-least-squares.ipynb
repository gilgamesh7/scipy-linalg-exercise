{
 "cells": [
  {
   "attachments": {},
   "cell_type": "markdown",
   "metadata": {},
   "source": [
    "### Using Determinants & Inverses"
   ]
  },
  {
   "attachments": {},
   "cell_type": "markdown",
   "metadata": {},
   "source": [
    "![Image](determinants.png)\n",
    "![Image](using_inverses.png)"
   ]
  },
  {
   "attachments": {},
   "cell_type": "markdown",
   "metadata": {},
   "source": [
    "### Building a meal plan - using inverses instead of .solve()\n",
    "![Image](problemstatement.png)"
   ]
  },
  {
   "cell_type": "code",
   "execution_count": 2,
   "metadata": {},
   "outputs": [
    {
     "name": "stdout",
     "output_type": "stream",
     "text": [
      "Determinant of A :45102.0\n",
      "Solution : \n",
      "[[10.]\n",
      " [10.]\n",
      " [20.]\n",
      " [20.]\n",
      " [10.]]\n"
     ]
    }
   ],
   "source": [
    "import numpy as np\n",
    "from scipy import linalg\n",
    "\n",
    "A = np.array(\n",
    "    [\n",
    "        [1, 9, 2, 1, 1],\n",
    "        [10, 1, 2, 1, 1],\n",
    "        [1, 0, 5, 1, 1],\n",
    "        [2, 1, 1, 2, 9],\n",
    "        [2, 1, 2, 13, 2],\n",
    "    ]\n",
    ")\n",
    "\n",
    "print(f\"Determinant of A :{linalg.det(A)}\")\n",
    "\n",
    "b = np.array([170, 180, 140, 180, 350]).reshape((5, 1))\n",
    "\n",
    "A_inv = linalg.inv(A)\n",
    "\n",
    "x = A_inv @ b\n",
    "\n",
    "print(f\"Solution : \\n{x}\")\n"
   ]
  },
  {
   "attachments": {},
   "cell_type": "markdown",
   "metadata": {},
   "source": [
    "### Interpolating Polynomials With Linear Systems\n",
    "![Image](InterpolationPolynomials.png)"
   ]
  },
  {
   "cell_type": "code",
   "execution_count": 6,
   "metadata": {},
   "outputs": [
    {
     "name": "stdout",
     "output_type": "stream",
     "text": [
      "Determinant of Matrix : 1.9999999999999996\n",
      "Solution : a0, a1, a2 : [[1.]\n",
      " [2.]\n",
      " [2.]]\n"
     ]
    }
   ],
   "source": [
    "import numpy as np\n",
    "from scipy import linalg\n",
    "\n",
    "A = np.array([[1, 1, 1], [1, 2, 4], [1, 3, 9]])\n",
    "\n",
    "print(f\"Determinant of Matrix : {linalg.det(A)}\")\n",
    "\n",
    "b = np.array([5, 13, 25]).reshape((3, 1))\n",
    "\n",
    "print(f\"Solution : a0, a1, a2 : {linalg.inv(A)@b}\")"
   ]
  },
  {
   "attachments": {},
   "cell_type": "markdown",
   "metadata": {},
   "source": [
    "![Image](PolynomialInterpolationNoSolution.png)"
   ]
  },
  {
   "cell_type": "code",
   "execution_count": 8,
   "metadata": {},
   "outputs": [
    {
     "name": "stdout",
     "output_type": "stream",
     "text": [
      "Determinant of Matrix : -1.6653345369377348e-16\n"
     ]
    },
    {
     "ename": "LinAlgError",
     "evalue": "singular matrix",
     "output_type": "error",
     "traceback": [
      "\u001b[0;31m---------------------------------------------------------------------------\u001b[0m",
      "\u001b[0;31mLinAlgError\u001b[0m                               Traceback (most recent call last)",
      "Cell \u001b[0;32mIn[8], line 10\u001b[0m\n\u001b[1;32m      6\u001b[0m \u001b[39mprint\u001b[39m(\u001b[39mf\u001b[39m\u001b[39m\"\u001b[39m\u001b[39mDeterminant of Matrix : \u001b[39m\u001b[39m{\u001b[39;00mlinalg\u001b[39m.\u001b[39mdet(A)\u001b[39m}\u001b[39;00m\u001b[39m\"\u001b[39m)\n\u001b[1;32m      8\u001b[0m b \u001b[39m=\u001b[39m np\u001b[39m.\u001b[39marray([\u001b[39m5\u001b[39m, \u001b[39m13\u001b[39m, \u001b[39m25\u001b[39m])\u001b[39m.\u001b[39mreshape((\u001b[39m3\u001b[39m, \u001b[39m1\u001b[39m))\n\u001b[0;32m---> 10\u001b[0m \u001b[39mprint\u001b[39m(\u001b[39mf\u001b[39m\u001b[39m\"\u001b[39m\u001b[39mSolution : a0, a1, a2 : \u001b[39m\u001b[39m{\u001b[39;00mlinalg\u001b[39m.\u001b[39;49minv(A)\u001b[39m@b\u001b[39m\u001b[39m}\u001b[39;00m\u001b[39m\"\u001b[39m)\n",
      "File \u001b[0;32m~/Library/CloudStorage/OneDrive-Personal/Documents/Documents/code/scipy-linalg-exercise/venv/lib/python3.10/site-packages/scipy/linalg/_basic.py:975\u001b[0m, in \u001b[0;36minv\u001b[0;34m(a, overwrite_a, check_finite)\u001b[0m\n\u001b[1;32m    973\u001b[0m     inv_a, info \u001b[39m=\u001b[39m getri(lu, piv, lwork\u001b[39m=\u001b[39mlwork, overwrite_lu\u001b[39m=\u001b[39m\u001b[39m1\u001b[39m)\n\u001b[1;32m    974\u001b[0m \u001b[39mif\u001b[39;00m info \u001b[39m>\u001b[39m \u001b[39m0\u001b[39m:\n\u001b[0;32m--> 975\u001b[0m     \u001b[39mraise\u001b[39;00m LinAlgError(\u001b[39m\"\u001b[39m\u001b[39msingular matrix\u001b[39m\u001b[39m\"\u001b[39m)\n\u001b[1;32m    976\u001b[0m \u001b[39mif\u001b[39;00m info \u001b[39m<\u001b[39m \u001b[39m0\u001b[39m:\n\u001b[1;32m    977\u001b[0m     \u001b[39mraise\u001b[39;00m \u001b[39mValueError\u001b[39;00m(\u001b[39m'\u001b[39m\u001b[39millegal value in \u001b[39m\u001b[39m%d\u001b[39;00m\u001b[39m-th argument of internal \u001b[39m\u001b[39m'\u001b[39m\n\u001b[1;32m    978\u001b[0m                      \u001b[39m'\u001b[39m\u001b[39mgetrf|getri\u001b[39m\u001b[39m'\u001b[39m \u001b[39m%\u001b[39m \u001b[39m-\u001b[39minfo)\n",
      "\u001b[0;31mLinAlgError\u001b[0m: singular matrix"
     ]
    }
   ],
   "source": [
    "import numpy as np\n",
    "from scipy import linalg\n",
    "\n",
    "A = np.array([[1, 1, 1], [1, 2, 4], [1, 2, 4]])\n",
    "\n",
    "print(f\"Determinant of Matrix : {linalg.det(A)}\")\n",
    "\n",
    "b = np.array([5, 13, 25]).reshape((3, 1))\n",
    "\n",
    "print(f\"Solution : a0, a1, a2 : {linalg.inv(A)@b}\")"
   ]
  }
 ],
 "metadata": {
  "kernelspec": {
   "display_name": "venv",
   "language": "python",
   "name": "python3"
  },
  "language_info": {
   "codemirror_mode": {
    "name": "ipython",
    "version": 3
   },
   "file_extension": ".py",
   "mimetype": "text/x-python",
   "name": "python",
   "nbconvert_exporter": "python",
   "pygments_lexer": "ipython3",
   "version": "3.10.6"
  },
  "orig_nbformat": 4,
  "vscode": {
   "interpreter": {
    "hash": "301e58eb27ec7656d54e0606a4f9f81885191ae08355717ccc07ef11e8098793"
   }
  }
 },
 "nbformat": 4,
 "nbformat_minor": 2
}
