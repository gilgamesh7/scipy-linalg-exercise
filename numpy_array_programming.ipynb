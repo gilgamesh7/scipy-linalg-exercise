{
 "cells": [
  {
   "cell_type": "code",
   "execution_count": 2,
   "metadata": {},
   "outputs": [],
   "source": [
    "import numpy as np"
   ]
  },
  {
   "cell_type": "code",
   "execution_count": 2,
   "metadata": {},
   "outputs": [
    {
     "name": "stdout",
     "output_type": "stream",
     "text": [
      "[[[ 0  1  2]\n",
      "  [ 3  4  5]\n",
      "  [ 6  7  8]\n",
      "  [ 9 10 11]]\n",
      "\n",
      " [[12 13 14]\n",
      "  [15 16 17]\n",
      "  [18 19 20]\n",
      "  [21 22 23]]\n",
      "\n",
      " [[24 25 26]\n",
      "  [27 28 29]\n",
      "  [30 31 32]\n",
      "  [33 34 35]]]\n"
     ]
    }
   ],
   "source": [
    "# Create a 3X4X3 array with random values\n",
    "example_array = np.arange(36).reshape(3,4,3)\n",
    "\n",
    "print(example_array)"
   ]
  },
  {
   "cell_type": "code",
   "execution_count": 3,
   "metadata": {},
   "outputs": [
    {
     "name": "stdout",
     "output_type": "stream",
     "text": [
      "Transitions count without vectorisation : 24984\n",
      "Transitions count with vectorisation : 24984\n",
      "Sum axis 0 : [11 22 33]\n",
      "Sum axis 1 : [ 6 60]\n"
     ]
    }
   ],
   "source": [
    "# generate giant 1D array\n",
    "np.random.seed(444)\n",
    "giant_array = np.random.choice([False, True], size=100000)\n",
    "\n",
    "# Count transitions without vectorization\n",
    "def count_transitions(transitions_array)-> int:\n",
    "    count = 0\n",
    "    for i, j in zip(transitions_array[:-1], transitions_array[1:]):\n",
    "        if j and not i:\n",
    "            count += 1\n",
    "    \n",
    "    return count\n",
    "\n",
    "print(f\"Transitions count without vectorisation : {count_transitions(giant_array)}\")\n",
    "\n",
    "print(f\"Transitions count with vectorisation : {np.count_nonzero(giant_array[:-1] < giant_array[1:])}\")\n",
    "\n",
    "# Intermezzo : Understanding Axes Notation\n",
    "arr = np.array([[1, 2, 3],\n",
    "                [10, 20, 30]])\n",
    "print(f\"Sum axis 0 : {arr.sum(axis=0)}\")\n",
    "print(f\"Sum axis 1 : {arr.sum(axis=1)}\")\n"
   ]
  }
 ],
 "metadata": {
  "kernelspec": {
   "display_name": "venv",
   "language": "python",
   "name": "python3"
  },
  "language_info": {
   "codemirror_mode": {
    "name": "ipython",
    "version": 3
   },
   "file_extension": ".py",
   "mimetype": "text/x-python",
   "name": "python",
   "nbconvert_exporter": "python",
   "pygments_lexer": "ipython3",
   "version": "3.10.6"
  },
  "orig_nbformat": 4,
  "vscode": {
   "interpreter": {
    "hash": "301e58eb27ec7656d54e0606a4f9f81885191ae08355717ccc07ef11e8098793"
   }
  }
 },
 "nbformat": 4,
 "nbformat_minor": 2
}
